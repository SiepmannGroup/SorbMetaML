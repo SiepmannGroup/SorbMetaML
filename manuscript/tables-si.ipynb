{
 "cells": [
  {
   "cell_type": "code",
   "execution_count": 1,
   "metadata": {},
   "outputs": [],
   "source": [
    "import numpy as np\n",
    "import pandas as pd"
   ]
  },
  {
   "cell_type": "markdown",
   "metadata": {},
   "source": [
    "## Table S1, LaTeX source"
   ]
  },
  {
   "cell_type": "code",
   "execution_count": 2,
   "metadata": {},
   "outputs": [
    {
     "name": "stdout",
     "output_type": "stream",
     "text": [
      "All & IZA & \\textbf{0.075} & 1.316 & 0.477 & 0.175 & 0.151 & 0.149\\\\\n",
      "    & PCOD & \\textbf{0.073} & 1.303 & 0.486 & 0.149 & 0.134 & 0.138\\\\\n",
      "    & HCP & \\textbf{0.064} & 1.677 & 0.629 & 0.106 & 0.168 & 0.137\\\\\n",
      "    & MOF & \\textbf{0.037} & 0.412 & 0.235 & 0.090 & 0.057 & 0.045\\\\\n",
      "    & ALL & \\textbf{0.056} & 0.867 & 0.375 & 0.128 & 0.104 & 0.093\\\\\n",
      "\\hline\n",
      "Random (a) & IZA & \\textbf{0.229} & 2.090 & 2.373 & 0.724 & 4.081 & 2.842\\\\\n",
      "    & PCOD & \\textbf{0.337} & 1.964 & 1.752 & 0.611 & 3.079 & 2.786\\\\\n",
      "    & HCP & \\textbf{0.217} & 2.121 & 1.012 & 3.734 & 1.456 & 1.046\\\\\n",
      "    & MOF & 0.695 & 1.182 & 0.883 & \\textbf{0.656} & 0.716 & 0.902\\\\\n",
      "    & ALL & \\textbf{0.365} & 1.675 & 1.458 & 0.777 & 2.025 & 1.690\\\\\n",
      "\\hline\n",
      "Random (b) & IZA & \\textbf{0.269} & 2.369 & 1.317 & 1.257 & 29.687 & 1.507\\\\\n",
      "    & PCOD & \\textbf{0.261} & 2.380 & 1.478 & 1.636 & 11.270 & 1.737\\\\\n",
      "    & HCP & \\textbf{0.140} & 2.875 & 1.294 & 0.793 & 6.997 & 1.646\\\\\n",
      "    & MOF & \\textbf{0.045} & 0.514 & 0.837 & 11.325 & 1.753 & 1.535\\\\\n",
      "    & ALL & \\textbf{0.129} & 1.355 & 1.125 & 2.857 & 12.084 & 1.558\\\\\n",
      "\\hline\n",
      "Diagonal & IZA & \\textbf{0.228} & 3.043 & 0.951 & 1.347 & 0.924 & 0.698\\\\\n",
      "    & PCOD & \\textbf{0.155} & 3.532 & 0.912 & 3.258 & 1.267 & 0.873\\\\\n",
      "    & HCP & \\textbf{0.116} & 5.213 & 1.270 & 0.417 & 0.485 & 0.420\\\\\n",
      "    & MOF & \\textbf{0.049} & 1.197 & 0.494 & 13.725 & 0.662 & 0.409\\\\\n",
      "    & ALL & \\textbf{0.115} & 2.285 & 0.757 & 3.284 & 0.804 & 0.563\\\\\n",
      "\\hline\n",
      "Edge & IZA & \\textbf{0.225} & 2.201 & 0.795 & 0.380 & 0.413 & 0.379\\\\\n",
      "    & PCOD & \\textbf{0.188} & 2.276 & 0.796 & 0.326 & 0.550 & 0.318\\\\\n",
      "    & HCP & \\textbf{0.139} & 2.606 & 0.901 & 0.177 & 0.422 & 0.303\\\\\n",
      "    & MOF & \\textbf{0.081} & 0.677 & 0.479 & 0.258 & 0.217 & 0.255\\\\\n",
      "    & ALL & \\textbf{0.144} & 1.439 & 0.664 & 0.301 & 0.339 & 0.313\\\\\n",
      "\\hline\n"
     ]
    }
   ],
   "source": [
    "import scipy.stats\n",
    "mean = scipy.stats.mstats.gmean\n",
    "title_mode = [\"All\", \"Random (a)\", \"Random (b)\", \"Diagonal\", \"Edge\"]\n",
    "titles = ['Meta-learning', 'Langmuir', 'Sips', 'Quadratic', 'DSL', 'Best AIF']\n",
    "names = ['nn', 'langmuir', 'sips', 'quadratic', 'dslangmuir','best']\n",
    "for t, mode in zip(title_mode, ['regular', 'random8', 'random8_1', 'diagonal', 'edge']):\n",
    "    line = t + \" & \"\n",
    "    fits = {}\n",
    "    for dataset in ['iza', 'pcod', 'hcp', 'mof']:\n",
    "        fits[dataset] = {}\n",
    "        fits[dataset]['nn'] = np.loadtxt('results/%s/nn-%s.csv' % (dataset, mode), delimiter=',')[:, -1]\n",
    "        for x in names[1:-1]:\n",
    "            fits[dataset][x] = np.loadtxt('results/%s/%s-fit-%s.csv' % (dataset, x, mode), delimiter=',')[:, -1]\n",
    "        fits[dataset]['best'] = np.loadtxt('results/%s/best-fit-%s.csv' % (dataset, mode), delimiter=',')\n",
    "    fits['all'] = {}\n",
    "    for x in names:\n",
    "        fits[\"all\"][x] = np.concatenate([fits[y][x] for y in ['iza', 'pcod', 'hcp', 'mof']])\n",
    "    for dataset in ['iza', 'pcod', 'hcp', 'mof', 'all']:\n",
    "        line += dataset.upper()  \n",
    "        #fits_all = np.vstack([fits[x] for x in names[1:-1]])\n",
    "        #fits['best'] = np.min(fits_all, axis=1)\n",
    "        vals = []\n",
    "        for title, name in zip(titles, names):\n",
    "            n = 1/1000\n",
    "            mse_list = fits[dataset][name]\n",
    "            mse_list = mse_list[np.logical_not(np.isnan(mse_list))]\n",
    "            vals.append(mean(mse_list/n))\n",
    "        max_col = np.argmin(vals)\n",
    "        for i, v in enumerate(vals):\n",
    "            if i == max_col:\n",
    "                line += \" & \\\\textbf{%.3f}\" % v\n",
    "            else:\n",
    "                line += \" & %.3f\" % v\n",
    "        print(line + \"\\\\\\\\\")\n",
    "        line = \"    & \"\n",
    "    print(\"\\\\hline\")"
   ]
  },
  {
   "cell_type": "markdown",
   "metadata": {},
   "source": [
    "## Table S2\n",
    "The numerical data for Table S2 can be found at `results/iza/temps-p02.71-p30-f0.7-swing0.csv` by sorting columns. The $T_\\mathrm{val,max}$ column is Table S2 can be repdocuced by the cell for Figure 4/S5 in `figures.ipynb.`"
   ]
  },
  {
   "cell_type": "markdown",
   "metadata": {},
   "source": [
    "## Table S3"
   ]
  },
  {
   "cell_type": "code",
   "execution_count": 3,
   "metadata": {},
   "outputs": [
    {
     "data": {
      "text/html": [
       "<style  type=\"text/css\" >\n",
       "#T_d8f1c4dc_b820_11eb_b56a_84fdd1399288row0_col0,#T_d8f1c4dc_b820_11eb_b56a_84fdd1399288row0_col4,#T_d8f1c4dc_b820_11eb_b56a_84fdd1399288row1_col0,#T_d8f1c4dc_b820_11eb_b56a_84fdd1399288row1_col4,#T_d8f1c4dc_b820_11eb_b56a_84fdd1399288row2_col0,#T_d8f1c4dc_b820_11eb_b56a_84fdd1399288row2_col4,#T_d8f1c4dc_b820_11eb_b56a_84fdd1399288row3_col0,#T_d8f1c4dc_b820_11eb_b56a_84fdd1399288row3_col4{\n",
       "            color:  black;\n",
       "        }#T_d8f1c4dc_b820_11eb_b56a_84fdd1399288row0_col1,#T_d8f1c4dc_b820_11eb_b56a_84fdd1399288row1_col1,#T_d8f1c4dc_b820_11eb_b56a_84fdd1399288row2_col1,#T_d8f1c4dc_b820_11eb_b56a_84fdd1399288row3_col1{\n",
       "            color:  green;\n",
       "        }#T_d8f1c4dc_b820_11eb_b56a_84fdd1399288row0_col2,#T_d8f1c4dc_b820_11eb_b56a_84fdd1399288row0_col3,#T_d8f1c4dc_b820_11eb_b56a_84fdd1399288row1_col2,#T_d8f1c4dc_b820_11eb_b56a_84fdd1399288row1_col3,#T_d8f1c4dc_b820_11eb_b56a_84fdd1399288row2_col2,#T_d8f1c4dc_b820_11eb_b56a_84fdd1399288row2_col3,#T_d8f1c4dc_b820_11eb_b56a_84fdd1399288row3_col2,#T_d8f1c4dc_b820_11eb_b56a_84fdd1399288row3_col3{\n",
       "            color:  lightgrey;\n",
       "        }</style><table id=\"T_d8f1c4dc_b820_11eb_b56a_84fdd1399288\" ><thead>    <tr>        <th class=\"blank level0\" ></th>        <th class=\"col_heading level0 col0\" >Fingerprint 0</th>        <th class=\"col_heading level0 col1\" >Fingerprint 1</th>        <th class=\"col_heading level0 col2\" >Fingerprint 2</th>        <th class=\"col_heading level0 col3\" >Fingerprint 3</th>        <th class=\"col_heading level0 col4\" >Fingerprint 4</th>    </tr>    <tr>        <th class=\"index_name level0\" >Property</th>        <th class=\"blank\" ></th>        <th class=\"blank\" ></th>        <th class=\"blank\" ></th>        <th class=\"blank\" ></th>        <th class=\"blank\" ></th>    </tr></thead><tbody>\n",
       "                <tr>\n",
       "                        <th id=\"T_d8f1c4dc_b820_11eb_b56a_84fdd1399288level0_row0\" class=\"row_heading level0 row0\" >Framework density</th>\n",
       "                        <td id=\"T_d8f1c4dc_b820_11eb_b56a_84fdd1399288row0_col0\" class=\"data row0 col0\" >-0.419000</td>\n",
       "                        <td id=\"T_d8f1c4dc_b820_11eb_b56a_84fdd1399288row0_col1\" class=\"data row0 col1\" >-0.690000</td>\n",
       "                        <td id=\"T_d8f1c4dc_b820_11eb_b56a_84fdd1399288row0_col2\" class=\"data row0 col2\" >-0.157000</td>\n",
       "                        <td id=\"T_d8f1c4dc_b820_11eb_b56a_84fdd1399288row0_col3\" class=\"data row0 col3\" >0.158000</td>\n",
       "                        <td id=\"T_d8f1c4dc_b820_11eb_b56a_84fdd1399288row0_col4\" class=\"data row0 col4\" >-0.377000</td>\n",
       "            </tr>\n",
       "            <tr>\n",
       "                        <th id=\"T_d8f1c4dc_b820_11eb_b56a_84fdd1399288level0_row1\" class=\"row_heading level0 row1\" >Max inclusion diameter</th>\n",
       "                        <td id=\"T_d8f1c4dc_b820_11eb_b56a_84fdd1399288row1_col0\" class=\"data row1 col0\" >0.472000</td>\n",
       "                        <td id=\"T_d8f1c4dc_b820_11eb_b56a_84fdd1399288row1_col1\" class=\"data row1 col1\" >0.772000</td>\n",
       "                        <td id=\"T_d8f1c4dc_b820_11eb_b56a_84fdd1399288row1_col2\" class=\"data row1 col2\" >0.084000</td>\n",
       "                        <td id=\"T_d8f1c4dc_b820_11eb_b56a_84fdd1399288row1_col3\" class=\"data row1 col3\" >0.035000</td>\n",
       "                        <td id=\"T_d8f1c4dc_b820_11eb_b56a_84fdd1399288row1_col4\" class=\"data row1 col4\" >0.395000</td>\n",
       "            </tr>\n",
       "            <tr>\n",
       "                        <th id=\"T_d8f1c4dc_b820_11eb_b56a_84fdd1399288level0_row2\" class=\"row_heading level0 row2\" >Max diffusion diameter</th>\n",
       "                        <td id=\"T_d8f1c4dc_b820_11eb_b56a_84fdd1399288row2_col0\" class=\"data row2 col0\" >0.361000</td>\n",
       "                        <td id=\"T_d8f1c4dc_b820_11eb_b56a_84fdd1399288row2_col1\" class=\"data row2 col1\" >0.679000</td>\n",
       "                        <td id=\"T_d8f1c4dc_b820_11eb_b56a_84fdd1399288row2_col2\" class=\"data row2 col2\" >0.202000</td>\n",
       "                        <td id=\"T_d8f1c4dc_b820_11eb_b56a_84fdd1399288row2_col3\" class=\"data row2 col3\" >-0.118000</td>\n",
       "                        <td id=\"T_d8f1c4dc_b820_11eb_b56a_84fdd1399288row2_col4\" class=\"data row2 col4\" >0.354000</td>\n",
       "            </tr>\n",
       "            <tr>\n",
       "                        <th id=\"T_d8f1c4dc_b820_11eb_b56a_84fdd1399288level0_row3\" class=\"row_heading level0 row3\" >Accessible volume (%)</th>\n",
       "                        <td id=\"T_d8f1c4dc_b820_11eb_b56a_84fdd1399288row3_col0\" class=\"data row3 col0\" >0.463000</td>\n",
       "                        <td id=\"T_d8f1c4dc_b820_11eb_b56a_84fdd1399288row3_col1\" class=\"data row3 col1\" >0.789000</td>\n",
       "                        <td id=\"T_d8f1c4dc_b820_11eb_b56a_84fdd1399288row3_col2\" class=\"data row3 col2\" >0.227000</td>\n",
       "                        <td id=\"T_d8f1c4dc_b820_11eb_b56a_84fdd1399288row3_col3\" class=\"data row3 col3\" >-0.148000</td>\n",
       "                        <td id=\"T_d8f1c4dc_b820_11eb_b56a_84fdd1399288row3_col4\" class=\"data row3 col4\" >0.424000</td>\n",
       "            </tr>\n",
       "    </tbody></table>"
      ],
      "text/plain": [
       "<pandas.io.formats.style.Styler at 0x23168914fd0>"
      ]
     },
     "execution_count": 3,
     "metadata": {},
     "output_type": "execute_result"
    }
   ],
   "source": [
    "zeolite_names = [x.split(\"-\")[0] for x in np.genfromtxt(\"../data/iza/names.csv\", dtype=str)]\n",
    "fingerprints = np.loadtxt(\"results/iza/nn-regular.csv\", delimiter=\",\")[:, :-1] # last column stored is mean square error\n",
    "df_izasc = pd.read_csv(\"results/supplementary/IZA-parameters.csv\", index_col=0).set_index(\"Code\")\n",
    "df_izasc[\"Max diffusion diameter\"] = np.max(df_izasc.iloc[:, 4:7], axis=1)\n",
    "\n",
    "cols = [\"Property\"] + [\"Fingerprint %d\" % x for x in range(fingerprints.shape[1])]\n",
    "rows = []\n",
    "for col in df_izasc.columns:\n",
    "    prop = df_izasc.loc[zeolite_names][col].values\n",
    "    rows.append([col] + [np.corrcoef(prop, fingerprints[:, x])[0, 1] for x in range(fingerprints.shape[1])])\n",
    "df_correlation = pd.DataFrame(rows, columns=cols).set_index(\"Property\")\n",
    "\n",
    "def color_correlated(val):\n",
    "    color = 'green' if abs(val) > 2/3 else 'black' if abs(val) > 1/3 else 'lightgrey'\n",
    "    return 'color: %s' % color\n",
    "df_correlation.style\n",
    "\n",
    "df_correlation \\\n",
    "    .loc[[\"Framework density\", \"Max inclusion diameter\", \"Max diffusion diameter\", \"Accessible volume (%)\"]] \\\n",
    "    .round(decimals=3) \\\n",
    "    .style.applymap(color_correlated)\\"
   ]
  },
  {
   "cell_type": "markdown",
   "metadata": {},
   "source": [
    "## Table S5, LaTeX source\n",
    "**Note:** The exact coefficients and $R^2$ values may subject to change due to versioning of scipy/numpy packages."
   ]
  },
  {
   "cell_type": "code",
   "execution_count": 4,
   "metadata": {},
   "outputs": [
    {
     "name": "stderr",
     "output_type": "stream",
     "text": [
      "The system cannot find the path specified.\n"
     ]
    }
   ],
   "source": [
    "!cd ../supp_info/; python3 ./compressibility.py"
   ]
  }
 ],
 "metadata": {
  "kernelspec": {
   "display_name": "Python 3",
   "language": "python",
   "name": "python3"
  },
  "language_info": {
   "codemirror_mode": {
    "name": "ipython",
    "version": 3
   },
   "file_extension": ".py",
   "mimetype": "text/x-python",
   "name": "python",
   "nbconvert_exporter": "python",
   "pygments_lexer": "ipython3",
   "version": "3.7.3"
  }
 },
 "nbformat": 4,
 "nbformat_minor": 2
}
