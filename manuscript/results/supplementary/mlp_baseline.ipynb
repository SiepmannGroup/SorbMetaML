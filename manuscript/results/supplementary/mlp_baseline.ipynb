{
 "cells": [
  {
   "cell_type": "code",
   "execution_count": 1,
   "metadata": {},
   "outputs": [],
   "source": [
    "import numpy as np\n",
    "import pandas as pd\n",
    "from sklearn.neural_network import MLPRegressor as MLP\n",
    "import matplotlib.pyplot as plt\n",
    "from scipy.optimize import curve_fit"
   ]
  },
  {
   "cell_type": "code",
   "execution_count": 2,
   "metadata": {},
   "outputs": [
    {
     "name": "stdout",
     "output_type": "stream",
     "text": [
      "(64, 3)\n"
     ]
    }
   ],
   "source": [
    "data_all = np.load(\"../iza_hydrogen.npy\")\n",
    "zeolites = np.genfromtxt(\"../names.csv\", dtype=str)\n",
    "norms = np.loadtxt(\"../norms.csv\")\n",
    "\n",
    "zeolite = \"RWY-0\"\n",
    "\n",
    "zid = np.where(zeolites == zeolite)[0][0]\n",
    "\n",
    "data = data_all[zid].T\n",
    "norm = norms[zid]\n",
    "\n",
    "print(data.shape)"
   ]
  },
  {
   "cell_type": "code",
   "execution_count": 3,
   "metadata": {},
   "outputs": [],
   "source": [
    "def sips(x, q, a, b, n):\n",
    "    p, invT = np.exp(x[0]), x[1]\n",
    "    K = np.exp(a - b * invT)\n",
    "    return q * (K * p) ** n / (1 + (K * p) ** n)\n",
    "\n",
    "def langmuir(x, q, a, b):\n",
    "    return sips(x, q, a, b, 1)\n",
    "\n",
    "def dslangmuir(x, q1, a1, b1, q2, a2, b2):\n",
    "    return langmuir(x, q1, a1, b1) + langmuir(x, q2, a2, b2)\n",
    "\n",
    "def quadratic(x, q, a1, b1, a2, b2):\n",
    "    p, invT = np.exp(x[0]), x[1]\n",
    "    K1 = np.exp(a1 - b1 * invT)\n",
    "    K2 = np.exp(a2 - b2 * invT)\n",
    "    return q * p * (K1 + 2 * K2 * p) / (1 + K1 * p + K2 * p ** 2)\n",
    "\n",
    "def get_ypred_isotherm(func, x, data_train, n_indep):\n",
    "    y_all = []\n",
    "    y_train = data_train[:, 0]\n",
    "    x_train = data_train[:, 1:].T\n",
    "    for i in range(n_indep):\n",
    "        popt, pcov = curve_fit(func, x_train, y_train, bounds=(-50, 50), loss='soft_l1', max_nfev=5000)\n",
    "        if i == 0:\n",
    "            print(popt)\n",
    "        y_all.append(func(x.T, *popt))\n",
    "    return np.array(y_all).T"
   ]
  },
  {
   "cell_type": "code",
   "execution_count": 5,
   "metadata": {},
   "outputs": [
    {
     "name": "stdout",
     "output_type": "stream",
     "text": [
      "[ 1.04237497 -7.96658826 -0.37705335  0.86459952]\n",
      "(2340, 8)\n"
     ]
    },
    {
     "data": {
      "image/png": "[encoded data removed]",
      "text/plain": [
       "<Figure size 432x288 with 1 Axes>"
      ]
     },
     "metadata": {},
     "output_type": "display_data"
    },
    {
     "name": "stdout",
     "output_type": "stream",
     "text": [
      "64.10000000000028 [19.24806694 19.24806694 19.24806694 19.24806694 19.24806694 19.24806694\n",
      " 19.24806694 19.24806694]\n"
     ]
    }
   ],
   "source": [
    "eos = lambda p, V, T: p * V / R / T\n",
    "R = 0.08314\n",
    "p0 = 2.71\n",
    "p1 = 30\n",
    "t0 = 45\n",
    "e = 0.3\n",
    "temps = np.arange(t0, 279, 0.1)\n",
    "size = len(temps)\n",
    "xs_0 = np.zeros((size, 2), dtype=np.float32)\n",
    "xs_1 = np.zeros((size, 2), dtype=np.float32)\n",
    "xs_0[:, 1] = 1000 / temps\n",
    "xs_1[:, 1] = 1000 / temps\n",
    "xs_0[:, 0] = np.log(p0)\n",
    "xs_1[:, 0] = np.log(p1)\n",
    "n_zeo = 2.0158 * get_ypred_isotherm(sips, np.vstack([xs_0, xs_1]), data, 8) * norm\n",
    "q0 = n_zeo[:size:]\n",
    "q1 = n_zeo[size:, :]\n",
    "n_work = (q1 - q0) * (1 - e) + ((eos(p1, 2.0158, temps) - eos(p0, 2.0158, temps)) * e).reshape(-1, 1)\n",
    "np.savetxt('RWY-0-sips.txt', np.hstack([temps.reshape(-1, 1), q0, q1]))\n",
    "print(n_work.shape)\n",
    "plt.plot(temps, np.mean(n_work, axis=1))\n",
    "plt.show()\n",
    "print(temps[np.argmax(np.mean(n_work, axis=1))], n_work[np.argmax(np.mean(n_work, axis=1))])"
   ]
  },
  {
   "cell_type": "code",
   "execution_count": null,
   "metadata": {},
   "outputs": [],
   "source": [
    "def get_ypred_mlp(layers, x, data_train, n_indep):\n",
    "    y_all = []\n",
    "    y_train = data[:, 0]\n",
    "    x_train = data[:, 1:]\n",
    "    for i in range(n_indep):\n",
    "        mlp = MLP(hidden_layer_sizes=layers, activation='tanh', solver='lbfgs')\n",
    "        mlp.fit(x_train, y_train)\n",
    "        y_all.append(mlp.predict(x))\n",
    "    return np.array(y_all).T"
   ]
  },
  {
   "cell_type": "code",
   "execution_count": 12,
   "metadata": {},
   "outputs": [
    {
     "ename": "NameError",
     "evalue": "name 'get_ypred' is not defined",
     "output_type": "error",
     "traceback": [
      "\u001b[0;31m---------------------------------------------------------------------------\u001b[0m",
      "\u001b[0;31mNameError\u001b[0m                                 Traceback (most recent call last)",
      "\u001b[0;32m<ipython-input-12-0b3265f89e2b>\u001b[0m in \u001b[0;36m<module>\u001b[0;34m()\u001b[0m\n\u001b[1;32m     12\u001b[0m \u001b[0mxs_0\u001b[0m\u001b[0;34m[\u001b[0m\u001b[0;34m:\u001b[0m\u001b[0;34m,\u001b[0m \u001b[0;36m0\u001b[0m\u001b[0;34m]\u001b[0m \u001b[0;34m=\u001b[0m \u001b[0mnp\u001b[0m\u001b[0;34m.\u001b[0m\u001b[0mlog\u001b[0m\u001b[0;34m(\u001b[0m\u001b[0mp0\u001b[0m\u001b[0;34m)\u001b[0m\u001b[0;34m\u001b[0m\u001b[0;34m\u001b[0m\u001b[0m\n\u001b[1;32m     13\u001b[0m \u001b[0mxs_1\u001b[0m\u001b[0;34m[\u001b[0m\u001b[0;34m:\u001b[0m\u001b[0;34m,\u001b[0m \u001b[0;36m0\u001b[0m\u001b[0;34m]\u001b[0m \u001b[0;34m=\u001b[0m \u001b[0mnp\u001b[0m\u001b[0;34m.\u001b[0m\u001b[0mlog\u001b[0m\u001b[0;34m(\u001b[0m\u001b[0mp1\u001b[0m\u001b[0;34m)\u001b[0m\u001b[0;34m\u001b[0m\u001b[0;34m\u001b[0m\u001b[0m\n\u001b[0;32m---> 14\u001b[0;31m \u001b[0mn_zeo\u001b[0m \u001b[0;34m=\u001b[0m \u001b[0mget_ypred\u001b[0m\u001b[0;34m(\u001b[0m\u001b[0;34m(\u001b[0m\u001b[0;36m16\u001b[0m\u001b[0;34m,\u001b[0m\u001b[0;36m8\u001b[0m\u001b[0;34m)\u001b[0m\u001b[0;34m,\u001b[0m \u001b[0mnp\u001b[0m\u001b[0;34m.\u001b[0m\u001b[0mvstack\u001b[0m\u001b[0;34m(\u001b[0m\u001b[0;34m[\u001b[0m\u001b[0mxs_0\u001b[0m\u001b[0;34m,\u001b[0m \u001b[0mxs_1\u001b[0m\u001b[0;34m]\u001b[0m\u001b[0;34m)\u001b[0m\u001b[0;34m,\u001b[0m \u001b[0mdata\u001b[0m\u001b[0;34m,\u001b[0m \u001b[0;36m8\u001b[0m\u001b[0;34m)\u001b[0m \u001b[0;34m*\u001b[0m \u001b[0mnorm\u001b[0m \u001b[0;34m*\u001b[0m \u001b[0;36m2.0158\u001b[0m\u001b[0;34m\u001b[0m\u001b[0;34m\u001b[0m\u001b[0m\n\u001b[0m\u001b[1;32m     15\u001b[0m \u001b[0mq0\u001b[0m \u001b[0;34m=\u001b[0m \u001b[0mn_zeo\u001b[0m\u001b[0;34m[\u001b[0m\u001b[0;34m:\u001b[0m\u001b[0msize\u001b[0m\u001b[0;34m:\u001b[0m\u001b[0;34m]\u001b[0m\u001b[0;34m\u001b[0m\u001b[0;34m\u001b[0m\u001b[0m\n\u001b[1;32m     16\u001b[0m \u001b[0mq1\u001b[0m \u001b[0;34m=\u001b[0m \u001b[0mn_zeo\u001b[0m\u001b[0;34m[\u001b[0m\u001b[0msize\u001b[0m\u001b[0;34m:\u001b[0m\u001b[0;34m,\u001b[0m \u001b[0;34m:\u001b[0m\u001b[0;34m]\u001b[0m\u001b[0;34m\u001b[0m\u001b[0;34m\u001b[0m\u001b[0m\n",
      "\u001b[0;31mNameError\u001b[0m: name 'get_ypred' is not defined"
     ]
    }
   ],
   "source": [
    "eos = lambda p, V, T: p * V / R / T\n",
    "R = 0.08314\n",
    "p0 = 2.71\n",
    "p1 = 30\n",
    "t0 = 45\n",
    "temps = np.arange(t0, 279, 0.1)\n",
    "size = len(temps)\n",
    "xs_0 = np.zeros((size, 2), dtype=np.float32)\n",
    "xs_1 = np.zeros((size, 2), dtype=np.float32)\n",
    "xs_0[:, 1] = 1000 / temps\n",
    "xs_1[:, 1] = 1000 / temps\n",
    "xs_0[:, 0] = np.log(p0)\n",
    "xs_1[:, 0] = np.log(p1)\n",
    "n_zeo = get_ypred((16,8), np.vstack([xs_0, xs_1]), data, 8) * norm * 2.0158\n",
    "q0 = n_zeo[:size:]\n",
    "q1 = n_zeo[size:, :]\n",
    "n_work = q1 - q0\n",
    "#np.savetxt('RWY-0-mlp.txt', np.hstack([temps.reshape(-1, 1), q0, q1]))\n",
    "print(n_work.shape)\n",
    "plt.plot(temps, np.mean(n_work, axis=1))\n",
    "plt.show()\n",
    "print(temps[np.argmax(np.mean(n_work, axis=1))])"
   ]
  },
  {
   "cell_type": "code",
   "execution_count": 108,
   "metadata": {},
   "outputs": [
    {
     "data": {
      "text/plain": [
       "45.00024750136126"
      ]
     },
     "execution_count": 108,
     "metadata": {},
     "output_type": "execute_result"
    }
   ],
   "source": [
    "1000/22.2221"
   ]
  },
  {
   "cell_type": "code",
   "execution_count": null,
   "metadata": {},
   "outputs": [],
   "source": []
  }
 ],
 "metadata": {
  "kernelspec": {
   "display_name": "Python 3",
   "language": "python",
   "name": "python3"
  },
  "language_info": {
   "codemirror_mode": {
    "name": "ipython",
    "version": 3
   },
   "file_extension": ".py",
   "mimetype": "text/x-python",
   "name": "python",
   "nbconvert_exporter": "python",
   "pygments_lexer": "ipython3",
   "version": "3.6.9"
  }
 },
 "nbformat": 4,
 "nbformat_minor": 2
}
